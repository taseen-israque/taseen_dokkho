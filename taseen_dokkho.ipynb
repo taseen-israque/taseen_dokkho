{
 "cells": [
  {
   "cell_type": "code",
   "execution_count": 2,
   "id": "79f18172",
   "metadata": {},
   "outputs": [
    {
     "data": {
      "text/html": [
       "<div>\n",
       "<style scoped>\n",
       "    .dataframe tbody tr th:only-of-type {\n",
       "        vertical-align: middle;\n",
       "    }\n",
       "\n",
       "    .dataframe tbody tr th {\n",
       "        vertical-align: top;\n",
       "    }\n",
       "\n",
       "    .dataframe thead th {\n",
       "        text-align: right;\n",
       "    }\n",
       "</style>\n",
       "<table border=\"1\" class=\"dataframe\">\n",
       "  <thead>\n",
       "    <tr style=\"text-align: right;\">\n",
       "      <th></th>\n",
       "      <th>PassengerId</th>\n",
       "      <th>Survived</th>\n",
       "      <th>Pclass</th>\n",
       "      <th>Name</th>\n",
       "      <th>Sex</th>\n",
       "      <th>Age</th>\n",
       "      <th>SibSp</th>\n",
       "      <th>Parch</th>\n",
       "      <th>Ticket</th>\n",
       "      <th>Fare</th>\n",
       "      <th>Cabin</th>\n",
       "      <th>Embarked</th>\n",
       "    </tr>\n",
       "  </thead>\n",
       "  <tbody>\n",
       "    <tr>\n",
       "      <th>0</th>\n",
       "      <td>1</td>\n",
       "      <td>0</td>\n",
       "      <td>3</td>\n",
       "      <td>Braund, Mr. Owen Harris</td>\n",
       "      <td>male</td>\n",
       "      <td>22.0</td>\n",
       "      <td>1</td>\n",
       "      <td>0</td>\n",
       "      <td>A/5 21171</td>\n",
       "      <td>7.2500</td>\n",
       "      <td>NaN</td>\n",
       "      <td>S</td>\n",
       "    </tr>\n",
       "    <tr>\n",
       "      <th>1</th>\n",
       "      <td>2</td>\n",
       "      <td>1</td>\n",
       "      <td>1</td>\n",
       "      <td>Cumings, Mrs. John Bradley (Florence Briggs Th...</td>\n",
       "      <td>female</td>\n",
       "      <td>38.0</td>\n",
       "      <td>1</td>\n",
       "      <td>0</td>\n",
       "      <td>PC 17599</td>\n",
       "      <td>71.2833</td>\n",
       "      <td>C85</td>\n",
       "      <td>C</td>\n",
       "    </tr>\n",
       "    <tr>\n",
       "      <th>2</th>\n",
       "      <td>3</td>\n",
       "      <td>1</td>\n",
       "      <td>3</td>\n",
       "      <td>Heikkinen, Miss. Laina</td>\n",
       "      <td>female</td>\n",
       "      <td>26.0</td>\n",
       "      <td>0</td>\n",
       "      <td>0</td>\n",
       "      <td>STON/O2. 3101282</td>\n",
       "      <td>7.9250</td>\n",
       "      <td>NaN</td>\n",
       "      <td>S</td>\n",
       "    </tr>\n",
       "    <tr>\n",
       "      <th>3</th>\n",
       "      <td>4</td>\n",
       "      <td>1</td>\n",
       "      <td>1</td>\n",
       "      <td>Futrelle, Mrs. Jacques Heath (Lily May Peel)</td>\n",
       "      <td>female</td>\n",
       "      <td>35.0</td>\n",
       "      <td>1</td>\n",
       "      <td>0</td>\n",
       "      <td>113803</td>\n",
       "      <td>53.1000</td>\n",
       "      <td>C123</td>\n",
       "      <td>S</td>\n",
       "    </tr>\n",
       "    <tr>\n",
       "      <th>4</th>\n",
       "      <td>5</td>\n",
       "      <td>0</td>\n",
       "      <td>3</td>\n",
       "      <td>Allen, Mr. William Henry</td>\n",
       "      <td>male</td>\n",
       "      <td>35.0</td>\n",
       "      <td>0</td>\n",
       "      <td>0</td>\n",
       "      <td>373450</td>\n",
       "      <td>8.0500</td>\n",
       "      <td>NaN</td>\n",
       "      <td>S</td>\n",
       "    </tr>\n",
       "  </tbody>\n",
       "</table>\n",
       "</div>"
      ],
      "text/plain": [
       "   PassengerId  Survived  Pclass  \\\n",
       "0            1         0       3   \n",
       "1            2         1       1   \n",
       "2            3         1       3   \n",
       "3            4         1       1   \n",
       "4            5         0       3   \n",
       "\n",
       "                                                Name     Sex   Age  SibSp  \\\n",
       "0                            Braund, Mr. Owen Harris    male  22.0      1   \n",
       "1  Cumings, Mrs. John Bradley (Florence Briggs Th...  female  38.0      1   \n",
       "2                             Heikkinen, Miss. Laina  female  26.0      0   \n",
       "3       Futrelle, Mrs. Jacques Heath (Lily May Peel)  female  35.0      1   \n",
       "4                           Allen, Mr. William Henry    male  35.0      0   \n",
       "\n",
       "   Parch            Ticket     Fare Cabin Embarked  \n",
       "0      0         A/5 21171   7.2500   NaN        S  \n",
       "1      0          PC 17599  71.2833   C85        C  \n",
       "2      0  STON/O2. 3101282   7.9250   NaN        S  \n",
       "3      0            113803  53.1000  C123        S  \n",
       "4      0            373450   8.0500   NaN        S  "
      ]
     },
     "execution_count": 2,
     "metadata": {},
     "output_type": "execute_result"
    }
   ],
   "source": [
    "import numpy as np # linear algebra\n",
    "import pandas as pd # data processing, CSV file I/O (e.g. pd.read_csv)\n",
    "import os\n",
    "full_train=pd.read_csv('E:\\\\downloads(16)\\\\titanic\\\\train.csv')\n",
    "full_test=pd.read_csv('E:\\\\downloads(16)\\\\titanic\\\\train.csv')\n",
    "full_train.head()"
   ]
  },
  {
   "cell_type": "code",
   "execution_count": 3,
   "id": "47d60e7e",
   "metadata": {
    "scrolled": true
   },
   "outputs": [
    {
     "name": "stdout",
     "output_type": "stream",
     "text": [
      "<class 'pandas.core.frame.DataFrame'>\n",
      "RangeIndex: 891 entries, 0 to 890\n",
      "Data columns (total 12 columns):\n",
      " #   Column       Non-Null Count  Dtype  \n",
      "---  ------       --------------  -----  \n",
      " 0   PassengerId  891 non-null    int64  \n",
      " 1   Survived     891 non-null    int64  \n",
      " 2   Pclass       891 non-null    int64  \n",
      " 3   Name         891 non-null    object \n",
      " 4   Sex          891 non-null    object \n",
      " 5   Age          714 non-null    float64\n",
      " 6   SibSp        891 non-null    int64  \n",
      " 7   Parch        891 non-null    int64  \n",
      " 8   Ticket       891 non-null    object \n",
      " 9   Fare         891 non-null    float64\n",
      " 10  Cabin        204 non-null    object \n",
      " 11  Embarked     889 non-null    object \n",
      "dtypes: float64(2), int64(5), object(5)\n",
      "memory usage: 83.7+ KB\n"
     ]
    }
   ],
   "source": [
    "full_train.info()"
   ]
  },
  {
   "cell_type": "markdown",
   "id": "84402e23",
   "metadata": {},
   "source": [
    "# Data Cleaning"
   ]
  },
  {
   "cell_type": "markdown",
   "id": "48be729e",
   "metadata": {},
   "source": [
    "we can see that Age and Cabin have lot of non-null values. Embarked has few  "
   ]
  },
  {
   "cell_type": "markdown",
   "id": "c14d970c",
   "metadata": {},
   "source": [
    "remove rows with exactly same name"
   ]
  },
  {
   "cell_type": "code",
   "execution_count": 4,
   "id": "b9b5aaae",
   "metadata": {},
   "outputs": [
    {
     "data": {
      "text/plain": [
       "891"
      ]
     },
     "execution_count": 4,
     "metadata": {},
     "output_type": "execute_result"
    }
   ],
   "source": [
    "full_train = full_train.drop_duplicates(subset=['Name']).reset_index(drop=True)\n",
    "len(full_train)"
   ]
  },
  {
   "cell_type": "code",
   "execution_count": 5,
   "id": "894ce0b8",
   "metadata": {
    "scrolled": true
   },
   "outputs": [
    {
     "data": {
      "text/plain": [
       "148"
      ]
     },
     "execution_count": 5,
     "metadata": {},
     "output_type": "execute_result"
    }
   ],
   "source": [
    "len(full_train['Cabin'].unique())"
   ]
  },
  {
   "cell_type": "markdown",
   "id": "eb54db8b",
   "metadata": {},
   "source": [
    "we can see out of 204 cabin names 148 are unique"
   ]
  },
  {
   "cell_type": "markdown",
   "id": "43acb447",
   "metadata": {},
   "source": [
    "converting all male to '1' and female to '0'"
   ]
  },
  {
   "cell_type": "code",
   "execution_count": 6,
   "id": "c93b76b6",
   "metadata": {},
   "outputs": [],
   "source": [
    "full_train['Sex'] = full_train['Sex'].apply(lambda x: 1 if x.lower().strip() == 'male' else 0 )"
   ]
  },
  {
   "cell_type": "markdown",
   "id": "e7d189b6",
   "metadata": {},
   "source": [
    "seperating names to first and last names "
   ]
  },
  {
   "cell_type": "code",
   "execution_count": 7,
   "id": "d3ce5eff",
   "metadata": {},
   "outputs": [],
   "source": [
    "full_train[['Last Name', 'First Name']] = full_train['Name'].str.split(', ', n=1, expand=True)"
   ]
  },
  {
   "cell_type": "code",
   "execution_count": 8,
   "id": "90819484",
   "metadata": {},
   "outputs": [
    {
     "data": {
      "text/html": [
       "<div>\n",
       "<style scoped>\n",
       "    .dataframe tbody tr th:only-of-type {\n",
       "        vertical-align: middle;\n",
       "    }\n",
       "\n",
       "    .dataframe tbody tr th {\n",
       "        vertical-align: top;\n",
       "    }\n",
       "\n",
       "    .dataframe thead th {\n",
       "        text-align: right;\n",
       "    }\n",
       "</style>\n",
       "<table border=\"1\" class=\"dataframe\">\n",
       "  <thead>\n",
       "    <tr style=\"text-align: right;\">\n",
       "      <th></th>\n",
       "      <th>PassengerId</th>\n",
       "      <th>Survived</th>\n",
       "      <th>Pclass</th>\n",
       "      <th>Name</th>\n",
       "      <th>Sex</th>\n",
       "      <th>Age</th>\n",
       "      <th>SibSp</th>\n",
       "      <th>Parch</th>\n",
       "      <th>Ticket</th>\n",
       "      <th>Fare</th>\n",
       "      <th>Cabin</th>\n",
       "      <th>Embarked</th>\n",
       "      <th>Last Name</th>\n",
       "      <th>First Name</th>\n",
       "    </tr>\n",
       "  </thead>\n",
       "  <tbody>\n",
       "    <tr>\n",
       "      <th>0</th>\n",
       "      <td>1</td>\n",
       "      <td>0</td>\n",
       "      <td>3</td>\n",
       "      <td>Braund, Mr. Owen Harris</td>\n",
       "      <td>1</td>\n",
       "      <td>22.0</td>\n",
       "      <td>1</td>\n",
       "      <td>0</td>\n",
       "      <td>A/5 21171</td>\n",
       "      <td>7.2500</td>\n",
       "      <td>NaN</td>\n",
       "      <td>S</td>\n",
       "      <td>Braund</td>\n",
       "      <td>Mr. Owen Harris</td>\n",
       "    </tr>\n",
       "    <tr>\n",
       "      <th>1</th>\n",
       "      <td>2</td>\n",
       "      <td>1</td>\n",
       "      <td>1</td>\n",
       "      <td>Cumings, Mrs. John Bradley (Florence Briggs Th...</td>\n",
       "      <td>0</td>\n",
       "      <td>38.0</td>\n",
       "      <td>1</td>\n",
       "      <td>0</td>\n",
       "      <td>PC 17599</td>\n",
       "      <td>71.2833</td>\n",
       "      <td>C85</td>\n",
       "      <td>C</td>\n",
       "      <td>Cumings</td>\n",
       "      <td>Mrs. John Bradley (Florence Briggs Thayer)</td>\n",
       "    </tr>\n",
       "    <tr>\n",
       "      <th>2</th>\n",
       "      <td>3</td>\n",
       "      <td>1</td>\n",
       "      <td>3</td>\n",
       "      <td>Heikkinen, Miss. Laina</td>\n",
       "      <td>0</td>\n",
       "      <td>26.0</td>\n",
       "      <td>0</td>\n",
       "      <td>0</td>\n",
       "      <td>STON/O2. 3101282</td>\n",
       "      <td>7.9250</td>\n",
       "      <td>NaN</td>\n",
       "      <td>S</td>\n",
       "      <td>Heikkinen</td>\n",
       "      <td>Miss. Laina</td>\n",
       "    </tr>\n",
       "    <tr>\n",
       "      <th>3</th>\n",
       "      <td>4</td>\n",
       "      <td>1</td>\n",
       "      <td>1</td>\n",
       "      <td>Futrelle, Mrs. Jacques Heath (Lily May Peel)</td>\n",
       "      <td>0</td>\n",
       "      <td>35.0</td>\n",
       "      <td>1</td>\n",
       "      <td>0</td>\n",
       "      <td>113803</td>\n",
       "      <td>53.1000</td>\n",
       "      <td>C123</td>\n",
       "      <td>S</td>\n",
       "      <td>Futrelle</td>\n",
       "      <td>Mrs. Jacques Heath (Lily May Peel)</td>\n",
       "    </tr>\n",
       "    <tr>\n",
       "      <th>4</th>\n",
       "      <td>5</td>\n",
       "      <td>0</td>\n",
       "      <td>3</td>\n",
       "      <td>Allen, Mr. William Henry</td>\n",
       "      <td>1</td>\n",
       "      <td>35.0</td>\n",
       "      <td>0</td>\n",
       "      <td>0</td>\n",
       "      <td>373450</td>\n",
       "      <td>8.0500</td>\n",
       "      <td>NaN</td>\n",
       "      <td>S</td>\n",
       "      <td>Allen</td>\n",
       "      <td>Mr. William Henry</td>\n",
       "    </tr>\n",
       "  </tbody>\n",
       "</table>\n",
       "</div>"
      ],
      "text/plain": [
       "   PassengerId  Survived  Pclass  \\\n",
       "0            1         0       3   \n",
       "1            2         1       1   \n",
       "2            3         1       3   \n",
       "3            4         1       1   \n",
       "4            5         0       3   \n",
       "\n",
       "                                                Name  Sex   Age  SibSp  Parch  \\\n",
       "0                            Braund, Mr. Owen Harris    1  22.0      1      0   \n",
       "1  Cumings, Mrs. John Bradley (Florence Briggs Th...    0  38.0      1      0   \n",
       "2                             Heikkinen, Miss. Laina    0  26.0      0      0   \n",
       "3       Futrelle, Mrs. Jacques Heath (Lily May Peel)    0  35.0      1      0   \n",
       "4                           Allen, Mr. William Henry    1  35.0      0      0   \n",
       "\n",
       "             Ticket     Fare Cabin Embarked  Last Name  \\\n",
       "0         A/5 21171   7.2500   NaN        S     Braund   \n",
       "1          PC 17599  71.2833   C85        C    Cumings   \n",
       "2  STON/O2. 3101282   7.9250   NaN        S  Heikkinen   \n",
       "3            113803  53.1000  C123        S   Futrelle   \n",
       "4            373450   8.0500   NaN        S      Allen   \n",
       "\n",
       "                                   First Name  \n",
       "0                             Mr. Owen Harris  \n",
       "1  Mrs. John Bradley (Florence Briggs Thayer)  \n",
       "2                                 Miss. Laina  \n",
       "3          Mrs. Jacques Heath (Lily May Peel)  \n",
       "4                           Mr. William Henry  "
      ]
     },
     "execution_count": 8,
     "metadata": {},
     "output_type": "execute_result"
    }
   ],
   "source": [
    "full_train.head()"
   ]
  },
  {
   "cell_type": "markdown",
   "id": "036ed4b9",
   "metadata": {},
   "source": [
    "in case there is someone with same last name does not have a cabin number, we can say they are in the same cabin"
   ]
  },
  {
   "cell_type": "code",
   "execution_count": 9,
   "id": "3c6c2ac1",
   "metadata": {},
   "outputs": [],
   "source": [
    "for last_name in full_train['Last Name'].unique():\n",
    "    same_last_name_rows = full_train[full_train['Last Name'] == last_name]\n",
    "    cabin_number = same_last_name_rows['Cabin'].dropna().unique()\n",
    "    if len(cabin_number)==0:\n",
    "        pass\n",
    "    elif len(cabin_number) <len(same_last_name_rows):\n",
    "        cabin_number = cabin_number[0]  # Take the first available cabin number if multiple exist\n",
    "        \n",
    "        # Assign this cabin number to rows with the same last name that lack a cabin number\n",
    "        full_train.loc[(full_train['Last Name'] == last_name) & (full_train['Cabin'].isna()), 'Cabin'] = cabin_number\n",
    "\n"
   ]
  },
  {
   "cell_type": "code",
   "execution_count": 10,
   "id": "aaf7e412",
   "metadata": {
    "scrolled": false
   },
   "outputs": [
    {
     "name": "stdout",
     "output_type": "stream",
     "text": [
      "<class 'pandas.core.series.Series'>\n",
      "RangeIndex: 891 entries, 0 to 890\n",
      "Series name: Cabin\n",
      "Non-Null Count  Dtype \n",
      "--------------  ----- \n",
      "224 non-null    object\n",
      "dtypes: object(1)\n",
      "memory usage: 7.1+ KB\n"
     ]
    }
   ],
   "source": [
    "full_train['Cabin'].info()"
   ]
  },
  {
   "cell_type": "markdown",
   "id": "5467a88e",
   "metadata": {},
   "source": [
    "from 204 , 224 cabin number is obtained. "
   ]
  },
  {
   "cell_type": "markdown",
   "id": "e9d6a854",
   "metadata": {},
   "source": [
    "now we can seperate the ticket column in two columns; ticket heading, ticket number"
   ]
  },
  {
   "cell_type": "code",
   "execution_count": 11,
   "id": "d06bccaf",
   "metadata": {},
   "outputs": [],
   "source": [
    "def split_ticket(ticket):\n",
    "    # Split into heading and number\n",
    "    heading = ''.join(filter(str.isalpha, ticket))  # Keep only letters\n",
    "    number = ''.join(filter(str.isdigit, ticket))   # Keep only digits\n",
    "    heading = heading.replace('.', '').replace(' ', '')  # Remove dots and spaces\n",
    "    return pd.Series([heading, number])\n",
    "\n",
    "# Apply the function and create new columns\n",
    "full_train[['Ticket Heading', 'Ticket Number']] = full_train['Ticket'].apply(split_ticket)"
   ]
  },
  {
   "cell_type": "code",
   "execution_count": 12,
   "id": "67f91f6b",
   "metadata": {
    "scrolled": false
   },
   "outputs": [
    {
     "data": {
      "text/html": [
       "<div>\n",
       "<style scoped>\n",
       "    .dataframe tbody tr th:only-of-type {\n",
       "        vertical-align: middle;\n",
       "    }\n",
       "\n",
       "    .dataframe tbody tr th {\n",
       "        vertical-align: top;\n",
       "    }\n",
       "\n",
       "    .dataframe thead th {\n",
       "        text-align: right;\n",
       "    }\n",
       "</style>\n",
       "<table border=\"1\" class=\"dataframe\">\n",
       "  <thead>\n",
       "    <tr style=\"text-align: right;\">\n",
       "      <th></th>\n",
       "      <th>PassengerId</th>\n",
       "      <th>Survived</th>\n",
       "      <th>Pclass</th>\n",
       "      <th>Name</th>\n",
       "      <th>Sex</th>\n",
       "      <th>Age</th>\n",
       "      <th>SibSp</th>\n",
       "      <th>Parch</th>\n",
       "      <th>Ticket</th>\n",
       "      <th>Fare</th>\n",
       "      <th>Cabin</th>\n",
       "      <th>Embarked</th>\n",
       "      <th>Last Name</th>\n",
       "      <th>First Name</th>\n",
       "      <th>Ticket Heading</th>\n",
       "      <th>Ticket Number</th>\n",
       "    </tr>\n",
       "  </thead>\n",
       "  <tbody>\n",
       "    <tr>\n",
       "      <th>886</th>\n",
       "      <td>887</td>\n",
       "      <td>0</td>\n",
       "      <td>2</td>\n",
       "      <td>Montvila, Rev. Juozas</td>\n",
       "      <td>1</td>\n",
       "      <td>27.0</td>\n",
       "      <td>0</td>\n",
       "      <td>0</td>\n",
       "      <td>211536</td>\n",
       "      <td>13.00</td>\n",
       "      <td>NaN</td>\n",
       "      <td>S</td>\n",
       "      <td>Montvila</td>\n",
       "      <td>Rev. Juozas</td>\n",
       "      <td></td>\n",
       "      <td>211536</td>\n",
       "    </tr>\n",
       "    <tr>\n",
       "      <th>887</th>\n",
       "      <td>888</td>\n",
       "      <td>1</td>\n",
       "      <td>1</td>\n",
       "      <td>Graham, Miss. Margaret Edith</td>\n",
       "      <td>0</td>\n",
       "      <td>19.0</td>\n",
       "      <td>0</td>\n",
       "      <td>0</td>\n",
       "      <td>112053</td>\n",
       "      <td>30.00</td>\n",
       "      <td>B42</td>\n",
       "      <td>S</td>\n",
       "      <td>Graham</td>\n",
       "      <td>Miss. Margaret Edith</td>\n",
       "      <td></td>\n",
       "      <td>112053</td>\n",
       "    </tr>\n",
       "    <tr>\n",
       "      <th>888</th>\n",
       "      <td>889</td>\n",
       "      <td>0</td>\n",
       "      <td>3</td>\n",
       "      <td>Johnston, Miss. Catherine Helen \"Carrie\"</td>\n",
       "      <td>0</td>\n",
       "      <td>NaN</td>\n",
       "      <td>1</td>\n",
       "      <td>2</td>\n",
       "      <td>W./C. 6607</td>\n",
       "      <td>23.45</td>\n",
       "      <td>NaN</td>\n",
       "      <td>S</td>\n",
       "      <td>Johnston</td>\n",
       "      <td>Miss. Catherine Helen \"Carrie\"</td>\n",
       "      <td>WC</td>\n",
       "      <td>6607</td>\n",
       "    </tr>\n",
       "    <tr>\n",
       "      <th>889</th>\n",
       "      <td>890</td>\n",
       "      <td>1</td>\n",
       "      <td>1</td>\n",
       "      <td>Behr, Mr. Karl Howell</td>\n",
       "      <td>1</td>\n",
       "      <td>26.0</td>\n",
       "      <td>0</td>\n",
       "      <td>0</td>\n",
       "      <td>111369</td>\n",
       "      <td>30.00</td>\n",
       "      <td>C148</td>\n",
       "      <td>C</td>\n",
       "      <td>Behr</td>\n",
       "      <td>Mr. Karl Howell</td>\n",
       "      <td></td>\n",
       "      <td>111369</td>\n",
       "    </tr>\n",
       "    <tr>\n",
       "      <th>890</th>\n",
       "      <td>891</td>\n",
       "      <td>0</td>\n",
       "      <td>3</td>\n",
       "      <td>Dooley, Mr. Patrick</td>\n",
       "      <td>1</td>\n",
       "      <td>32.0</td>\n",
       "      <td>0</td>\n",
       "      <td>0</td>\n",
       "      <td>370376</td>\n",
       "      <td>7.75</td>\n",
       "      <td>NaN</td>\n",
       "      <td>Q</td>\n",
       "      <td>Dooley</td>\n",
       "      <td>Mr. Patrick</td>\n",
       "      <td></td>\n",
       "      <td>370376</td>\n",
       "    </tr>\n",
       "  </tbody>\n",
       "</table>\n",
       "</div>"
      ],
      "text/plain": [
       "     PassengerId  Survived  Pclass                                      Name  \\\n",
       "886          887         0       2                     Montvila, Rev. Juozas   \n",
       "887          888         1       1              Graham, Miss. Margaret Edith   \n",
       "888          889         0       3  Johnston, Miss. Catherine Helen \"Carrie\"   \n",
       "889          890         1       1                     Behr, Mr. Karl Howell   \n",
       "890          891         0       3                       Dooley, Mr. Patrick   \n",
       "\n",
       "     Sex   Age  SibSp  Parch      Ticket   Fare Cabin Embarked Last Name  \\\n",
       "886    1  27.0      0      0      211536  13.00   NaN        S  Montvila   \n",
       "887    0  19.0      0      0      112053  30.00   B42        S    Graham   \n",
       "888    0   NaN      1      2  W./C. 6607  23.45   NaN        S  Johnston   \n",
       "889    1  26.0      0      0      111369  30.00  C148        C      Behr   \n",
       "890    1  32.0      0      0      370376   7.75   NaN        Q    Dooley   \n",
       "\n",
       "                         First Name Ticket Heading Ticket Number  \n",
       "886                     Rev. Juozas                       211536  \n",
       "887            Miss. Margaret Edith                       112053  \n",
       "888  Miss. Catherine Helen \"Carrie\"             WC          6607  \n",
       "889                 Mr. Karl Howell                       111369  \n",
       "890                     Mr. Patrick                       370376  "
      ]
     },
     "execution_count": 12,
     "metadata": {},
     "output_type": "execute_result"
    }
   ],
   "source": [
    "full_train.tail()"
   ]
  },
  {
   "cell_type": "code",
   "execution_count": 13,
   "id": "ebbca671",
   "metadata": {},
   "outputs": [
    {
     "data": {
      "text/plain": [
       "array(['S', 'C', 'Q', nan], dtype=object)"
      ]
     },
     "execution_count": 13,
     "metadata": {},
     "output_type": "execute_result"
    }
   ],
   "source": [
    "full_train['Embarked'].unique()"
   ]
  },
  {
   "cell_type": "markdown",
   "id": "c4fe6810",
   "metadata": {},
   "source": [
    "we can do OneHotEncoding for Embarked Column because it is a categorical column"
   ]
  },
  {
   "cell_type": "code",
   "execution_count": 14,
   "id": "dbc59ec7",
   "metadata": {},
   "outputs": [
    {
     "data": {
      "text/html": [
       "<div>\n",
       "<style scoped>\n",
       "    .dataframe tbody tr th:only-of-type {\n",
       "        vertical-align: middle;\n",
       "    }\n",
       "\n",
       "    .dataframe tbody tr th {\n",
       "        vertical-align: top;\n",
       "    }\n",
       "\n",
       "    .dataframe thead th {\n",
       "        text-align: right;\n",
       "    }\n",
       "</style>\n",
       "<table border=\"1\" class=\"dataframe\">\n",
       "  <thead>\n",
       "    <tr style=\"text-align: right;\">\n",
       "      <th></th>\n",
       "      <th>PassengerId</th>\n",
       "      <th>Survived</th>\n",
       "      <th>Pclass</th>\n",
       "      <th>Name</th>\n",
       "      <th>Sex</th>\n",
       "      <th>Age</th>\n",
       "      <th>SibSp</th>\n",
       "      <th>Parch</th>\n",
       "      <th>Ticket</th>\n",
       "      <th>Fare</th>\n",
       "      <th>Cabin</th>\n",
       "      <th>Last Name</th>\n",
       "      <th>First Name</th>\n",
       "      <th>Ticket Heading</th>\n",
       "      <th>Ticket Number</th>\n",
       "      <th>Embarked_C</th>\n",
       "      <th>Embarked_Q</th>\n",
       "      <th>Embarked_S</th>\n",
       "    </tr>\n",
       "  </thead>\n",
       "  <tbody>\n",
       "    <tr>\n",
       "      <th>0</th>\n",
       "      <td>1</td>\n",
       "      <td>0</td>\n",
       "      <td>3</td>\n",
       "      <td>Braund, Mr. Owen Harris</td>\n",
       "      <td>1</td>\n",
       "      <td>22.0</td>\n",
       "      <td>1</td>\n",
       "      <td>0</td>\n",
       "      <td>A/5 21171</td>\n",
       "      <td>7.2500</td>\n",
       "      <td>NaN</td>\n",
       "      <td>Braund</td>\n",
       "      <td>Mr. Owen Harris</td>\n",
       "      <td>A</td>\n",
       "      <td>521171</td>\n",
       "      <td>False</td>\n",
       "      <td>False</td>\n",
       "      <td>True</td>\n",
       "    </tr>\n",
       "    <tr>\n",
       "      <th>1</th>\n",
       "      <td>2</td>\n",
       "      <td>1</td>\n",
       "      <td>1</td>\n",
       "      <td>Cumings, Mrs. John Bradley (Florence Briggs Th...</td>\n",
       "      <td>0</td>\n",
       "      <td>38.0</td>\n",
       "      <td>1</td>\n",
       "      <td>0</td>\n",
       "      <td>PC 17599</td>\n",
       "      <td>71.2833</td>\n",
       "      <td>C85</td>\n",
       "      <td>Cumings</td>\n",
       "      <td>Mrs. John Bradley (Florence Briggs Thayer)</td>\n",
       "      <td>PC</td>\n",
       "      <td>17599</td>\n",
       "      <td>True</td>\n",
       "      <td>False</td>\n",
       "      <td>False</td>\n",
       "    </tr>\n",
       "    <tr>\n",
       "      <th>2</th>\n",
       "      <td>3</td>\n",
       "      <td>1</td>\n",
       "      <td>3</td>\n",
       "      <td>Heikkinen, Miss. Laina</td>\n",
       "      <td>0</td>\n",
       "      <td>26.0</td>\n",
       "      <td>0</td>\n",
       "      <td>0</td>\n",
       "      <td>STON/O2. 3101282</td>\n",
       "      <td>7.9250</td>\n",
       "      <td>NaN</td>\n",
       "      <td>Heikkinen</td>\n",
       "      <td>Miss. Laina</td>\n",
       "      <td>STONO</td>\n",
       "      <td>23101282</td>\n",
       "      <td>False</td>\n",
       "      <td>False</td>\n",
       "      <td>True</td>\n",
       "    </tr>\n",
       "    <tr>\n",
       "      <th>3</th>\n",
       "      <td>4</td>\n",
       "      <td>1</td>\n",
       "      <td>1</td>\n",
       "      <td>Futrelle, Mrs. Jacques Heath (Lily May Peel)</td>\n",
       "      <td>0</td>\n",
       "      <td>35.0</td>\n",
       "      <td>1</td>\n",
       "      <td>0</td>\n",
       "      <td>113803</td>\n",
       "      <td>53.1000</td>\n",
       "      <td>C123</td>\n",
       "      <td>Futrelle</td>\n",
       "      <td>Mrs. Jacques Heath (Lily May Peel)</td>\n",
       "      <td></td>\n",
       "      <td>113803</td>\n",
       "      <td>False</td>\n",
       "      <td>False</td>\n",
       "      <td>True</td>\n",
       "    </tr>\n",
       "    <tr>\n",
       "      <th>4</th>\n",
       "      <td>5</td>\n",
       "      <td>0</td>\n",
       "      <td>3</td>\n",
       "      <td>Allen, Mr. William Henry</td>\n",
       "      <td>1</td>\n",
       "      <td>35.0</td>\n",
       "      <td>0</td>\n",
       "      <td>0</td>\n",
       "      <td>373450</td>\n",
       "      <td>8.0500</td>\n",
       "      <td>B5</td>\n",
       "      <td>Allen</td>\n",
       "      <td>Mr. William Henry</td>\n",
       "      <td></td>\n",
       "      <td>373450</td>\n",
       "      <td>False</td>\n",
       "      <td>False</td>\n",
       "      <td>True</td>\n",
       "    </tr>\n",
       "  </tbody>\n",
       "</table>\n",
       "</div>"
      ],
      "text/plain": [
       "   PassengerId  Survived  Pclass  \\\n",
       "0            1         0       3   \n",
       "1            2         1       1   \n",
       "2            3         1       3   \n",
       "3            4         1       1   \n",
       "4            5         0       3   \n",
       "\n",
       "                                                Name  Sex   Age  SibSp  Parch  \\\n",
       "0                            Braund, Mr. Owen Harris    1  22.0      1      0   \n",
       "1  Cumings, Mrs. John Bradley (Florence Briggs Th...    0  38.0      1      0   \n",
       "2                             Heikkinen, Miss. Laina    0  26.0      0      0   \n",
       "3       Futrelle, Mrs. Jacques Heath (Lily May Peel)    0  35.0      1      0   \n",
       "4                           Allen, Mr. William Henry    1  35.0      0      0   \n",
       "\n",
       "             Ticket     Fare Cabin  Last Name  \\\n",
       "0         A/5 21171   7.2500   NaN     Braund   \n",
       "1          PC 17599  71.2833   C85    Cumings   \n",
       "2  STON/O2. 3101282   7.9250   NaN  Heikkinen   \n",
       "3            113803  53.1000  C123   Futrelle   \n",
       "4            373450   8.0500    B5      Allen   \n",
       "\n",
       "                                   First Name Ticket Heading Ticket Number  \\\n",
       "0                             Mr. Owen Harris              A        521171   \n",
       "1  Mrs. John Bradley (Florence Briggs Thayer)             PC         17599   \n",
       "2                                 Miss. Laina          STONO      23101282   \n",
       "3          Mrs. Jacques Heath (Lily May Peel)                       113803   \n",
       "4                           Mr. William Henry                       373450   \n",
       "\n",
       "   Embarked_C  Embarked_Q  Embarked_S  \n",
       "0       False       False        True  \n",
       "1        True       False       False  \n",
       "2       False       False        True  \n",
       "3       False       False        True  \n",
       "4       False       False        True  "
      ]
     },
     "execution_count": 14,
     "metadata": {},
     "output_type": "execute_result"
    }
   ],
   "source": [
    "full_train = pd.get_dummies(full_train, columns=['Embarked'], prefix='Embarked')\n",
    "full_train.head()"
   ]
  },
  {
   "cell_type": "markdown",
   "id": "c95cbdef",
   "metadata": {},
   "source": [
    "for the Age it is best to use KNN Imputer to fill up the data. I am using all columns with integer data other than PassengerId,\tSurvived and Ticket Number"
   ]
  },
  {
   "cell_type": "code",
   "execution_count": 15,
   "id": "27cc35dc",
   "metadata": {
    "scrolled": true
   },
   "outputs": [],
   "source": [
    "from sklearn.impute import KNNImputer\n",
    "imputer = KNNImputer(n_neighbors=5)\n",
    "full_train[['Age','Pclass','Sex','Embarked_C','Embarked_Q','Embarked_S','SibSp','Parch','Fare']]=pd.DataFrame(imputer.fit_transform(full_train[['Age','Pclass','Sex','Embarked_C','Embarked_Q','Embarked_S','SibSp','Parch','Fare']]))"
   ]
  },
  {
   "cell_type": "code",
   "execution_count": 16,
   "id": "05042626",
   "metadata": {},
   "outputs": [
    {
     "data": {
      "text/plain": [
       "0"
      ]
     },
     "execution_count": 16,
     "metadata": {},
     "output_type": "execute_result"
    }
   ],
   "source": [
    "full_train['Age'].isnull().sum()"
   ]
  },
  {
   "cell_type": "markdown",
   "id": "8f72f665",
   "metadata": {},
   "source": [
    "we can seperate the cabin in letters and numbers. "
   ]
  },
  {
   "cell_type": "code",
   "execution_count": 17,
   "id": "7676cca2",
   "metadata": {
    "scrolled": true
   },
   "outputs": [
    {
     "data": {
      "text/html": [
       "<div>\n",
       "<style scoped>\n",
       "    .dataframe tbody tr th:only-of-type {\n",
       "        vertical-align: middle;\n",
       "    }\n",
       "\n",
       "    .dataframe tbody tr th {\n",
       "        vertical-align: top;\n",
       "    }\n",
       "\n",
       "    .dataframe thead th {\n",
       "        text-align: right;\n",
       "    }\n",
       "</style>\n",
       "<table border=\"1\" class=\"dataframe\">\n",
       "  <thead>\n",
       "    <tr style=\"text-align: right;\">\n",
       "      <th></th>\n",
       "      <th>PassengerId</th>\n",
       "      <th>Survived</th>\n",
       "      <th>Pclass</th>\n",
       "      <th>Name</th>\n",
       "      <th>Sex</th>\n",
       "      <th>Age</th>\n",
       "      <th>SibSp</th>\n",
       "      <th>Parch</th>\n",
       "      <th>Ticket</th>\n",
       "      <th>Fare</th>\n",
       "      <th>Cabin</th>\n",
       "      <th>Last Name</th>\n",
       "      <th>First Name</th>\n",
       "      <th>Ticket Heading</th>\n",
       "      <th>Ticket Number</th>\n",
       "      <th>Embarked_C</th>\n",
       "      <th>Embarked_Q</th>\n",
       "      <th>Embarked_S</th>\n",
       "      <th>Cabin Letter</th>\n",
       "      <th>Cabin Number</th>\n",
       "    </tr>\n",
       "  </thead>\n",
       "  <tbody>\n",
       "    <tr>\n",
       "      <th>0</th>\n",
       "      <td>1</td>\n",
       "      <td>0</td>\n",
       "      <td>3.0</td>\n",
       "      <td>Braund, Mr. Owen Harris</td>\n",
       "      <td>1.0</td>\n",
       "      <td>22.0</td>\n",
       "      <td>1.0</td>\n",
       "      <td>0.0</td>\n",
       "      <td>A/5 21171</td>\n",
       "      <td>7.2500</td>\n",
       "      <td>NaN</td>\n",
       "      <td>Braund</td>\n",
       "      <td>Mr. Owen Harris</td>\n",
       "      <td>A</td>\n",
       "      <td>521171</td>\n",
       "      <td>0.0</td>\n",
       "      <td>0.0</td>\n",
       "      <td>1.0</td>\n",
       "      <td>None</td>\n",
       "      <td>None</td>\n",
       "    </tr>\n",
       "    <tr>\n",
       "      <th>1</th>\n",
       "      <td>2</td>\n",
       "      <td>1</td>\n",
       "      <td>1.0</td>\n",
       "      <td>Cumings, Mrs. John Bradley (Florence Briggs Th...</td>\n",
       "      <td>0.0</td>\n",
       "      <td>38.0</td>\n",
       "      <td>1.0</td>\n",
       "      <td>0.0</td>\n",
       "      <td>PC 17599</td>\n",
       "      <td>71.2833</td>\n",
       "      <td>C85</td>\n",
       "      <td>Cumings</td>\n",
       "      <td>Mrs. John Bradley (Florence Briggs Thayer)</td>\n",
       "      <td>PC</td>\n",
       "      <td>17599</td>\n",
       "      <td>1.0</td>\n",
       "      <td>0.0</td>\n",
       "      <td>0.0</td>\n",
       "      <td>C</td>\n",
       "      <td>85</td>\n",
       "    </tr>\n",
       "    <tr>\n",
       "      <th>2</th>\n",
       "      <td>3</td>\n",
       "      <td>1</td>\n",
       "      <td>3.0</td>\n",
       "      <td>Heikkinen, Miss. Laina</td>\n",
       "      <td>0.0</td>\n",
       "      <td>26.0</td>\n",
       "      <td>0.0</td>\n",
       "      <td>0.0</td>\n",
       "      <td>STON/O2. 3101282</td>\n",
       "      <td>7.9250</td>\n",
       "      <td>NaN</td>\n",
       "      <td>Heikkinen</td>\n",
       "      <td>Miss. Laina</td>\n",
       "      <td>STONO</td>\n",
       "      <td>23101282</td>\n",
       "      <td>0.0</td>\n",
       "      <td>0.0</td>\n",
       "      <td>1.0</td>\n",
       "      <td>None</td>\n",
       "      <td>None</td>\n",
       "    </tr>\n",
       "    <tr>\n",
       "      <th>3</th>\n",
       "      <td>4</td>\n",
       "      <td>1</td>\n",
       "      <td>1.0</td>\n",
       "      <td>Futrelle, Mrs. Jacques Heath (Lily May Peel)</td>\n",
       "      <td>0.0</td>\n",
       "      <td>35.0</td>\n",
       "      <td>1.0</td>\n",
       "      <td>0.0</td>\n",
       "      <td>113803</td>\n",
       "      <td>53.1000</td>\n",
       "      <td>C123</td>\n",
       "      <td>Futrelle</td>\n",
       "      <td>Mrs. Jacques Heath (Lily May Peel)</td>\n",
       "      <td></td>\n",
       "      <td>113803</td>\n",
       "      <td>0.0</td>\n",
       "      <td>0.0</td>\n",
       "      <td>1.0</td>\n",
       "      <td>C</td>\n",
       "      <td>123</td>\n",
       "    </tr>\n",
       "    <tr>\n",
       "      <th>4</th>\n",
       "      <td>5</td>\n",
       "      <td>0</td>\n",
       "      <td>3.0</td>\n",
       "      <td>Allen, Mr. William Henry</td>\n",
       "      <td>1.0</td>\n",
       "      <td>35.0</td>\n",
       "      <td>0.0</td>\n",
       "      <td>0.0</td>\n",
       "      <td>373450</td>\n",
       "      <td>8.0500</td>\n",
       "      <td>B5</td>\n",
       "      <td>Allen</td>\n",
       "      <td>Mr. William Henry</td>\n",
       "      <td></td>\n",
       "      <td>373450</td>\n",
       "      <td>0.0</td>\n",
       "      <td>0.0</td>\n",
       "      <td>1.0</td>\n",
       "      <td>B</td>\n",
       "      <td>5</td>\n",
       "    </tr>\n",
       "  </tbody>\n",
       "</table>\n",
       "</div>"
      ],
      "text/plain": [
       "   PassengerId  Survived  Pclass  \\\n",
       "0            1         0     3.0   \n",
       "1            2         1     1.0   \n",
       "2            3         1     3.0   \n",
       "3            4         1     1.0   \n",
       "4            5         0     3.0   \n",
       "\n",
       "                                                Name  Sex   Age  SibSp  Parch  \\\n",
       "0                            Braund, Mr. Owen Harris  1.0  22.0    1.0    0.0   \n",
       "1  Cumings, Mrs. John Bradley (Florence Briggs Th...  0.0  38.0    1.0    0.0   \n",
       "2                             Heikkinen, Miss. Laina  0.0  26.0    0.0    0.0   \n",
       "3       Futrelle, Mrs. Jacques Heath (Lily May Peel)  0.0  35.0    1.0    0.0   \n",
       "4                           Allen, Mr. William Henry  1.0  35.0    0.0    0.0   \n",
       "\n",
       "             Ticket     Fare Cabin  Last Name  \\\n",
       "0         A/5 21171   7.2500   NaN     Braund   \n",
       "1          PC 17599  71.2833   C85    Cumings   \n",
       "2  STON/O2. 3101282   7.9250   NaN  Heikkinen   \n",
       "3            113803  53.1000  C123   Futrelle   \n",
       "4            373450   8.0500    B5      Allen   \n",
       "\n",
       "                                   First Name Ticket Heading Ticket Number  \\\n",
       "0                             Mr. Owen Harris              A        521171   \n",
       "1  Mrs. John Bradley (Florence Briggs Thayer)             PC         17599   \n",
       "2                                 Miss. Laina          STONO      23101282   \n",
       "3          Mrs. Jacques Heath (Lily May Peel)                       113803   \n",
       "4                           Mr. William Henry                       373450   \n",
       "\n",
       "   Embarked_C  Embarked_Q  Embarked_S Cabin Letter Cabin Number  \n",
       "0         0.0         0.0         1.0         None         None  \n",
       "1         1.0         0.0         0.0            C           85  \n",
       "2         0.0         0.0         1.0         None         None  \n",
       "3         0.0         0.0         1.0            C          123  \n",
       "4         0.0         0.0         1.0            B            5  "
      ]
     },
     "execution_count": 17,
     "metadata": {},
     "output_type": "execute_result"
    }
   ],
   "source": [
    "import re\n",
    "full_train['Cabin Letter'] = full_train['Cabin'].apply(lambda x: x[0] if pd.notna(x) and x[0].isalpha() else None)\n",
    "full_train['Cabin Number'] = full_train['Cabin'].apply(lambda x: re.search(r'\\d+', x).group() if pd.notna(x) and re.search(r'\\d+', x) else None)\n",
    "full_train.head()"
   ]
  },
  {
   "cell_type": "markdown",
   "id": "97c69b5f",
   "metadata": {},
   "source": [
    "we can use KNeighborsClassifier model to find the Cabin Letter. for training 'Age','Fare','Embarked_C','Embarked_Q','Embarked_S','Pclass','Survived' columns will be used. For the Cabin Number we will simply fill the values with 00. "
   ]
  },
  {
   "cell_type": "code",
   "execution_count": 18,
   "id": "bbca7213",
   "metadata": {},
   "outputs": [],
   "source": [
    "train_X= full_train[full_train['Cabin Letter'].notna()][['Age','Fare','Embarked_C','Embarked_Q','Embarked_S','Pclass','Survived']]\n",
    "train_Y=full_train[full_train['Cabin Letter'].notna()][['Cabin Letter']]\n",
    "test_X= full_train[full_train['Cabin Letter'].isna()][['Age','Fare','Embarked_C','Embarked_Q','Embarked_S','Pclass','Survived']]"
   ]
  },
  {
   "cell_type": "code",
   "execution_count": 19,
   "id": "1fad326a",
   "metadata": {
    "scrolled": true
   },
   "outputs": [
    {
     "name": "stderr",
     "output_type": "stream",
     "text": [
      "C:\\Users\\Asus\\AppData\\Roaming\\Python\\Python311\\site-packages\\sklearn\\neighbors\\_classification.py:228: DataConversionWarning: A column-vector y was passed when a 1d array was expected. Please change the shape of y to (n_samples,), for example using ravel().\n",
      "  return self._fit(X, y)\n"
     ]
    },
    {
     "data": {
      "text/plain": [
       "array(['E', 'E', 'E', 'F', 'E', 'D', 'F', 'C', 'E', 'C', 'F', 'D', 'E',\n",
       "       'E', 'E', 'E', 'F', 'C', 'B', 'F', 'E', 'A', 'F', 'C', 'B', 'A',\n",
       "       'E', 'F', 'F', 'F', 'A', 'C', 'E', 'F', 'F', 'E', 'D', 'F', 'C',\n",
       "       'F', 'F', 'F', 'C', 'F', 'E', 'F', 'B', 'E', 'F', 'A', 'E', 'F',\n",
       "       'F', 'E', 'E', 'D', 'B', 'E', 'E', 'E', 'E', 'F', 'E', 'F', 'B',\n",
       "       'F', 'B', 'F', 'D', 'D', 'E', 'E', 'B', 'F', 'C', 'E', 'E', 'E',\n",
       "       'E', 'F', 'E', 'E', 'E', 'F', 'F', 'B', 'F', 'E', 'F', 'F', 'F',\n",
       "       'F', 'F', 'C', 'C', 'F', 'B', 'E', 'C', 'F', 'E', 'E', 'E', 'B',\n",
       "       'F', 'A', 'C', 'E', 'E', 'F', 'F', 'F', 'E', 'F', 'F', 'D', 'E',\n",
       "       'F', 'A', 'E', 'E', 'D', 'B', 'E', 'F', 'E', 'E', 'C', 'A', 'D',\n",
       "       'E', 'F', 'F', 'F', 'B', 'B', 'E', 'F', 'F', 'F', 'F', 'F', 'E',\n",
       "       'B', 'C', 'E', 'F', 'F', 'D', 'B', 'D', 'B', 'E', 'F', 'F', 'E',\n",
       "       'E', 'F', 'E', 'B', 'C', 'B', 'E', 'F', 'D', 'C', 'F', 'E', 'E',\n",
       "       'E', 'E', 'E', 'E', 'B', 'F', 'E', 'E', 'E', 'F', 'F', 'F', 'F',\n",
       "       'C', 'B', 'C', 'F', 'E', 'E', 'B', 'F', 'F', 'D', 'F', 'D', 'B',\n",
       "       'E', 'E', 'E', 'E', 'B', 'E', 'A', 'E', 'D', 'C', 'D', 'F', 'F',\n",
       "       'D', 'B', 'E', 'C', 'B', 'A', 'F', 'E', 'B', 'F', 'E', 'C', 'F',\n",
       "       'F', 'F', 'E', 'E', 'F', 'A', 'F', 'D', 'E', 'E', 'A', 'E', 'F',\n",
       "       'C', 'E', 'E', 'C', 'C', 'C', 'F', 'B', 'E', 'C', 'E', 'E', 'E',\n",
       "       'E', 'C', 'C', 'E', 'E', 'C', 'D', 'C', 'E', 'E', 'E', 'E', 'D',\n",
       "       'E', 'F', 'E', 'F', 'E', 'E', 'B', 'B', 'D', 'F', 'F', 'A', 'C',\n",
       "       'A', 'B', 'D', 'E', 'F', 'F', 'F', 'F', 'C', 'F', 'C', 'E', 'E',\n",
       "       'F', 'B', 'F', 'E', 'C', 'E', 'B', 'D', 'D', 'E', 'F', 'F', 'F',\n",
       "       'F', 'E', 'B', 'E', 'E', 'F', 'E', 'F', 'E', 'F', 'E', 'E', 'F',\n",
       "       'F', 'C', 'E', 'E', 'B', 'E', 'E', 'D', 'F', 'E', 'F', 'E', 'F',\n",
       "       'B', 'E', 'D', 'B', 'C', 'F', 'E', 'B', 'F', 'D', 'F', 'E', 'B',\n",
       "       'F', 'E', 'E', 'E', 'F', 'E', 'F', 'E', 'C', 'E', 'E', 'E', 'E',\n",
       "       'B', 'A', 'E', 'B', 'B', 'B', 'E', 'F', 'B', 'F', 'E', 'F', 'E',\n",
       "       'E', 'F', 'F', 'D', 'B', 'E', 'C', 'C', 'E', 'F', 'C', 'F', 'B',\n",
       "       'F', 'E', 'E', 'E', 'F', 'F', 'F', 'D', 'E', 'D', 'C', 'E', 'E',\n",
       "       'E', 'E', 'E', 'E', 'F', 'B', 'E', 'E', 'E', 'F', 'E', 'F', 'E',\n",
       "       'F', 'E', 'F', 'C', 'A', 'F', 'D', 'E', 'C', 'F', 'D', 'E', 'F',\n",
       "       'C', 'A', 'E', 'F', 'C', 'C', 'D', 'E', 'A', 'E', 'E', 'E', 'C',\n",
       "       'F', 'C', 'E', 'E', 'F', 'F', 'F', 'D', 'F', 'E', 'C', 'C', 'E',\n",
       "       'A', 'F', 'E', 'B', 'E', 'F', 'E', 'E', 'C', 'E', 'B', 'C', 'E',\n",
       "       'D', 'E', 'E', 'D', 'E', 'C', 'D', 'C', 'E', 'D', 'E', 'B', 'B',\n",
       "       'D', 'E', 'E', 'E', 'F', 'F', 'F', 'E', 'E', 'E', 'E', 'B', 'F',\n",
       "       'E', 'E', 'C', 'A', 'E', 'F', 'F', 'E', 'F', 'F', 'B', 'E', 'E',\n",
       "       'F', 'F', 'F', 'F', 'D', 'E', 'D', 'E', 'C', 'F', 'B', 'F', 'C',\n",
       "       'E', 'B', 'E', 'C', 'E', 'B', 'F', 'E', 'F', 'A', 'F', 'F', 'B',\n",
       "       'D', 'B', 'F', 'F', 'F', 'E', 'E', 'C', 'E', 'E', 'F', 'F', 'E',\n",
       "       'E', 'E', 'A', 'C', 'E', 'B', 'E', 'E', 'B', 'F', 'D', 'E', 'F',\n",
       "       'C', 'F', 'C', 'E', 'F', 'B', 'E', 'E', 'E', 'C', 'E', 'E', 'E',\n",
       "       'E', 'D', 'E', 'E', 'F', 'E', 'E', 'E', 'F', 'F', 'B', 'A', 'E',\n",
       "       'F', 'F', 'A', 'E', 'C', 'E', 'E', 'E', 'B', 'C', 'F', 'F', 'E',\n",
       "       'E', 'C', 'E', 'E', 'F', 'F', 'F', 'F', 'C', 'E', 'D', 'E', 'E',\n",
       "       'C', 'D', 'C', 'F', 'E', 'E', 'F', 'D', 'E', 'E', 'D', 'F', 'E',\n",
       "       'E', 'A', 'E', 'F', 'E', 'B', 'F', 'E', 'F', 'E', 'F', 'F', 'E',\n",
       "       'E', 'F', 'F', 'E', 'E', 'F', 'F', 'C', 'B', 'F', 'E', 'C', 'B',\n",
       "       'F', 'C', 'F', 'F', 'F', 'E', 'D', 'F', 'C', 'E', 'A', 'E', 'F',\n",
       "       'F', 'E', 'E', 'C', 'E', 'F', 'F', 'E', 'C', 'B', 'F', 'E', 'E',\n",
       "       'C', 'E', 'C', 'B'], dtype=object)"
      ]
     },
     "execution_count": 19,
     "metadata": {},
     "output_type": "execute_result"
    }
   ],
   "source": [
    "from sklearn.neighbors import KNeighborsClassifier\n",
    "knn = KNeighborsClassifier(n_neighbors=5)\n",
    "knn.fit(train_X,train_Y)\n",
    "y_pred= knn.predict(test_X)\n",
    "\n",
    "y_pred"
   ]
  },
  {
   "cell_type": "code",
   "execution_count": 20,
   "id": "2ee3779f",
   "metadata": {},
   "outputs": [],
   "source": [
    "full_train.loc[full_train['Cabin Letter'].isna(), 'Cabin Letter'] = y_pred\n"
   ]
  },
  {
   "cell_type": "code",
   "execution_count": 21,
   "id": "15276269",
   "metadata": {},
   "outputs": [
    {
     "data": {
      "text/html": [
       "<div>\n",
       "<style scoped>\n",
       "    .dataframe tbody tr th:only-of-type {\n",
       "        vertical-align: middle;\n",
       "    }\n",
       "\n",
       "    .dataframe tbody tr th {\n",
       "        vertical-align: top;\n",
       "    }\n",
       "\n",
       "    .dataframe thead th {\n",
       "        text-align: right;\n",
       "    }\n",
       "</style>\n",
       "<table border=\"1\" class=\"dataframe\">\n",
       "  <thead>\n",
       "    <tr style=\"text-align: right;\">\n",
       "      <th></th>\n",
       "      <th>PassengerId</th>\n",
       "      <th>Survived</th>\n",
       "      <th>Pclass</th>\n",
       "      <th>Name</th>\n",
       "      <th>Sex</th>\n",
       "      <th>Age</th>\n",
       "      <th>SibSp</th>\n",
       "      <th>Parch</th>\n",
       "      <th>Ticket</th>\n",
       "      <th>Fare</th>\n",
       "      <th>Cabin</th>\n",
       "      <th>Last Name</th>\n",
       "      <th>First Name</th>\n",
       "      <th>Ticket Heading</th>\n",
       "      <th>Ticket Number</th>\n",
       "      <th>Embarked_C</th>\n",
       "      <th>Embarked_Q</th>\n",
       "      <th>Embarked_S</th>\n",
       "      <th>Cabin Letter</th>\n",
       "      <th>Cabin Number</th>\n",
       "    </tr>\n",
       "  </thead>\n",
       "  <tbody>\n",
       "    <tr>\n",
       "      <th>0</th>\n",
       "      <td>1</td>\n",
       "      <td>0</td>\n",
       "      <td>3.0</td>\n",
       "      <td>Braund, Mr. Owen Harris</td>\n",
       "      <td>1.0</td>\n",
       "      <td>22.0</td>\n",
       "      <td>1.0</td>\n",
       "      <td>0.0</td>\n",
       "      <td>A/5 21171</td>\n",
       "      <td>7.2500</td>\n",
       "      <td>NaN</td>\n",
       "      <td>Braund</td>\n",
       "      <td>Mr. Owen Harris</td>\n",
       "      <td>A</td>\n",
       "      <td>521171</td>\n",
       "      <td>0.0</td>\n",
       "      <td>0.0</td>\n",
       "      <td>1.0</td>\n",
       "      <td>E</td>\n",
       "      <td>00</td>\n",
       "    </tr>\n",
       "    <tr>\n",
       "      <th>1</th>\n",
       "      <td>2</td>\n",
       "      <td>1</td>\n",
       "      <td>1.0</td>\n",
       "      <td>Cumings, Mrs. John Bradley (Florence Briggs Th...</td>\n",
       "      <td>0.0</td>\n",
       "      <td>38.0</td>\n",
       "      <td>1.0</td>\n",
       "      <td>0.0</td>\n",
       "      <td>PC 17599</td>\n",
       "      <td>71.2833</td>\n",
       "      <td>C85</td>\n",
       "      <td>Cumings</td>\n",
       "      <td>Mrs. John Bradley (Florence Briggs Thayer)</td>\n",
       "      <td>PC</td>\n",
       "      <td>17599</td>\n",
       "      <td>1.0</td>\n",
       "      <td>0.0</td>\n",
       "      <td>0.0</td>\n",
       "      <td>C</td>\n",
       "      <td>85</td>\n",
       "    </tr>\n",
       "    <tr>\n",
       "      <th>2</th>\n",
       "      <td>3</td>\n",
       "      <td>1</td>\n",
       "      <td>3.0</td>\n",
       "      <td>Heikkinen, Miss. Laina</td>\n",
       "      <td>0.0</td>\n",
       "      <td>26.0</td>\n",
       "      <td>0.0</td>\n",
       "      <td>0.0</td>\n",
       "      <td>STON/O2. 3101282</td>\n",
       "      <td>7.9250</td>\n",
       "      <td>NaN</td>\n",
       "      <td>Heikkinen</td>\n",
       "      <td>Miss. Laina</td>\n",
       "      <td>STONO</td>\n",
       "      <td>23101282</td>\n",
       "      <td>0.0</td>\n",
       "      <td>0.0</td>\n",
       "      <td>1.0</td>\n",
       "      <td>E</td>\n",
       "      <td>00</td>\n",
       "    </tr>\n",
       "    <tr>\n",
       "      <th>3</th>\n",
       "      <td>4</td>\n",
       "      <td>1</td>\n",
       "      <td>1.0</td>\n",
       "      <td>Futrelle, Mrs. Jacques Heath (Lily May Peel)</td>\n",
       "      <td>0.0</td>\n",
       "      <td>35.0</td>\n",
       "      <td>1.0</td>\n",
       "      <td>0.0</td>\n",
       "      <td>113803</td>\n",
       "      <td>53.1000</td>\n",
       "      <td>C123</td>\n",
       "      <td>Futrelle</td>\n",
       "      <td>Mrs. Jacques Heath (Lily May Peel)</td>\n",
       "      <td></td>\n",
       "      <td>113803</td>\n",
       "      <td>0.0</td>\n",
       "      <td>0.0</td>\n",
       "      <td>1.0</td>\n",
       "      <td>C</td>\n",
       "      <td>123</td>\n",
       "    </tr>\n",
       "    <tr>\n",
       "      <th>4</th>\n",
       "      <td>5</td>\n",
       "      <td>0</td>\n",
       "      <td>3.0</td>\n",
       "      <td>Allen, Mr. William Henry</td>\n",
       "      <td>1.0</td>\n",
       "      <td>35.0</td>\n",
       "      <td>0.0</td>\n",
       "      <td>0.0</td>\n",
       "      <td>373450</td>\n",
       "      <td>8.0500</td>\n",
       "      <td>B5</td>\n",
       "      <td>Allen</td>\n",
       "      <td>Mr. William Henry</td>\n",
       "      <td></td>\n",
       "      <td>373450</td>\n",
       "      <td>0.0</td>\n",
       "      <td>0.0</td>\n",
       "      <td>1.0</td>\n",
       "      <td>B</td>\n",
       "      <td>5</td>\n",
       "    </tr>\n",
       "  </tbody>\n",
       "</table>\n",
       "</div>"
      ],
      "text/plain": [
       "   PassengerId  Survived  Pclass  \\\n",
       "0            1         0     3.0   \n",
       "1            2         1     1.0   \n",
       "2            3         1     3.0   \n",
       "3            4         1     1.0   \n",
       "4            5         0     3.0   \n",
       "\n",
       "                                                Name  Sex   Age  SibSp  Parch  \\\n",
       "0                            Braund, Mr. Owen Harris  1.0  22.0    1.0    0.0   \n",
       "1  Cumings, Mrs. John Bradley (Florence Briggs Th...  0.0  38.0    1.0    0.0   \n",
       "2                             Heikkinen, Miss. Laina  0.0  26.0    0.0    0.0   \n",
       "3       Futrelle, Mrs. Jacques Heath (Lily May Peel)  0.0  35.0    1.0    0.0   \n",
       "4                           Allen, Mr. William Henry  1.0  35.0    0.0    0.0   \n",
       "\n",
       "             Ticket     Fare Cabin  Last Name  \\\n",
       "0         A/5 21171   7.2500   NaN     Braund   \n",
       "1          PC 17599  71.2833   C85    Cumings   \n",
       "2  STON/O2. 3101282   7.9250   NaN  Heikkinen   \n",
       "3            113803  53.1000  C123   Futrelle   \n",
       "4            373450   8.0500    B5      Allen   \n",
       "\n",
       "                                   First Name Ticket Heading Ticket Number  \\\n",
       "0                             Mr. Owen Harris              A        521171   \n",
       "1  Mrs. John Bradley (Florence Briggs Thayer)             PC         17599   \n",
       "2                                 Miss. Laina          STONO      23101282   \n",
       "3          Mrs. Jacques Heath (Lily May Peel)                       113803   \n",
       "4                           Mr. William Henry                       373450   \n",
       "\n",
       "   Embarked_C  Embarked_Q  Embarked_S Cabin Letter Cabin Number  \n",
       "0         0.0         0.0         1.0            E           00  \n",
       "1         1.0         0.0         0.0            C           85  \n",
       "2         0.0         0.0         1.0            E           00  \n",
       "3         0.0         0.0         1.0            C          123  \n",
       "4         0.0         0.0         1.0            B            5  "
      ]
     },
     "execution_count": 21,
     "metadata": {},
     "output_type": "execute_result"
    }
   ],
   "source": [
    "full_train['Cabin Number'] = full_train['Cabin Number'].fillna('00')\n",
    "full_train.head()"
   ]
  },
  {
   "cell_type": "markdown",
   "id": "5c0bb725",
   "metadata": {},
   "source": [
    "we can now do KNNimputing to find the missing Cabin Letter of the passengers. Here Pclass, Sex, SibSp, Parch,Fare are deciding factors "
   ]
  },
  {
   "cell_type": "markdown",
   "id": "70f157aa",
   "metadata": {},
   "source": [
    "Creating column for the passenger's age group (\"Child,\" \"Adult,\" \"Senior\") based\n",
    "on the 'Age' column."
   ]
  },
  {
   "cell_type": "code",
   "execution_count": 23,
   "id": "45f8e868",
   "metadata": {},
   "outputs": [],
   "source": [
    "\n",
    "age_bins = [0, 12, 59, 120]  \n",
    "age_labels = ['Child', 'Adult', 'Senior']  \n",
    "\n",
    "\n",
    "full_train['Age Group'] = pd.cut(full_train['Age'], bins=age_bins, labels=age_labels, right=False)\n"
   ]
  },
  {
   "cell_type": "code",
   "execution_count": 24,
   "id": "f1512ad2",
   "metadata": {},
   "outputs": [
    {
     "data": {
      "text/plain": [
       "['Adult', 'Child', 'Senior']\n",
       "Categories (3, object): ['Child' < 'Adult' < 'Senior']"
      ]
     },
     "execution_count": 24,
     "metadata": {},
     "output_type": "execute_result"
    }
   ],
   "source": [
    "full_train['Age Group'].unique()"
   ]
  },
  {
   "cell_type": "code",
   "execution_count": 25,
   "id": "3f3b2879",
   "metadata": {},
   "outputs": [
    {
     "data": {
      "image/png": "[encoded data removed]",
      "text/plain": [
       "<Figure size 640x480 with 1 Axes>"
      ]
     },
     "metadata": {},
     "output_type": "display_data"
    }
   ],
   "source": [
    "import matplotlib.pyplot as plt\n",
    "ages= full_train['Age']\n",
    "plt.hist(ages, bins=range(0,100,10), edgecolor='black', color='skyblue')\n",
    "\n",
    "# Adding labels and title\n",
    "plt.xlabel('Age')\n",
    "plt.ylabel('Number of People')\n",
    "plt.title('Age Distribution')\n",
    "\n",
    "# Display the plot\n",
    "plt.show()"
   ]
  },
  {
   "cell_type": "code",
   "execution_count": 26,
   "id": "db86acc6",
   "metadata": {},
   "outputs": [
    {
     "name": "stdout",
     "output_type": "stream",
     "text": [
      "<class 'pandas.core.frame.DataFrame'>\n",
      "RangeIndex: 891 entries, 0 to 890\n",
      "Data columns (total 21 columns):\n",
      " #   Column          Non-Null Count  Dtype   \n",
      "---  ------          --------------  -----   \n",
      " 0   PassengerId     891 non-null    int64   \n",
      " 1   Survived        891 non-null    int64   \n",
      " 2   Pclass          891 non-null    float64 \n",
      " 3   Name            891 non-null    object  \n",
      " 4   Sex             891 non-null    float64 \n",
      " 5   Age             891 non-null    float64 \n",
      " 6   SibSp           891 non-null    float64 \n",
      " 7   Parch           891 non-null    float64 \n",
      " 8   Ticket          891 non-null    object  \n",
      " 9   Fare            891 non-null    float64 \n",
      " 10  Cabin           224 non-null    object  \n",
      " 11  Last Name       891 non-null    object  \n",
      " 12  First Name      891 non-null    object  \n",
      " 13  Ticket Heading  891 non-null    object  \n",
      " 14  Ticket Number   891 non-null    object  \n",
      " 15  Embarked_C      891 non-null    float64 \n",
      " 16  Embarked_Q      891 non-null    float64 \n",
      " 17  Embarked_S      891 non-null    float64 \n",
      " 18  Cabin Letter    891 non-null    object  \n",
      " 19  Cabin Number    891 non-null    object  \n",
      " 20  Age Group       891 non-null    category\n",
      "dtypes: category(1), float64(9), int64(2), object(9)\n",
      "memory usage: 140.3+ KB\n"
     ]
    }
   ],
   "source": [
    "full_train.info()"
   ]
  },
  {
   "cell_type": "markdown",
   "id": "8fbc73d2",
   "metadata": {},
   "source": [
    "we have successfully filled in the misssing values"
   ]
  },
  {
   "cell_type": "markdown",
   "id": "1e5b4856",
   "metadata": {},
   "source": [
    "# Exploratory Data Analysis "
   ]
  },
  {
   "cell_type": "markdown",
   "id": "1b92dc62",
   "metadata": {},
   "source": [
    "let's look at a heatmap with all the number columns "
   ]
  },
  {
   "cell_type": "code",
   "execution_count": 27,
   "id": "f97a8b1e",
   "metadata": {},
   "outputs": [
    {
     "data": {
      "image/png": "[encoded data removed]",
      "text/plain": [
       "<Figure size 1000x800 with 2 Axes>"
      ]
     },
     "metadata": {},
     "output_type": "display_data"
    }
   ],
   "source": [
    "import seaborn as sns\n",
    "import matplotlib.pyplot as plt\n",
    "corr = full_train[['Survived','Pclass','Sex','Age','SibSp','Parch','Fare','Embarked_C','Embarked_Q','Embarked_S']].corr()\n",
    "plt.figure(figsize=(10, 8))\n",
    "sns.heatmap(corr, annot=True, cmap='coolwarm', linewidths=0.5)\n",
    "plt.title('Correlation Matrix Heatmap')\n",
    "plt.show()"
   ]
  },
  {
   "cell_type": "markdown",
   "id": "34355474",
   "metadata": {},
   "source": [
    "we can see that 'Sex' and 'Survived' has strong relation. Also 'Age' and 'Pclass' , 'Fare' and 'Pclass', 'Survived' and 'Pclass'\n",
    "have strong relation. "
   ]
  },
  {
   "cell_type": "markdown",
   "id": "6292f2a5",
   "metadata": {},
   "source": [
    "let's look at distribution of genders"
   ]
  },
  {
   "cell_type": "code",
   "execution_count": 50,
   "id": "a43c30f1",
   "metadata": {},
   "outputs": [
    {
     "data": {
      "image/png": "[encoded data removed]",
      "text/plain": [
       "<Figure size 800x600 with 1 Axes>"
      ]
     },
     "metadata": {},
     "output_type": "display_data"
    }
   ],
   "source": [
    "\n",
    "gender_counts = full_train['Sex'].value_counts()\n",
    "\n",
    "plt.figure(figsize=(8, 6))\n",
    "plt.bar(['Female','Male'], gender_counts.values, color=['skyblue', 'salmon'])\n",
    "plt.xlabel('Gender')\n",
    "plt.ylabel('Number of Passengers')\n",
    "plt.title('Distribution of Passengers by Gender')\n",
    "plt.show()"
   ]
  },
  {
   "cell_type": "markdown",
   "id": "5b93ae17",
   "metadata": {},
   "source": [
    "Now we will look at Pie chart of 'Sex' and 'Survived'"
   ]
  },
  {
   "cell_type": "code",
   "execution_count": 32,
   "id": "99af3d2f",
   "metadata": {},
   "outputs": [
    {
     "data": {
      "text/plain": [
       "<enumerate at 0x27148f4e5c0>"
      ]
     },
     "execution_count": 32,
     "metadata": {},
     "output_type": "execute_result"
    }
   ],
   "source": [
    "survival_counts = full_train.groupby(['Sex', 'Survived']).size().unstack()\n"
   ]
  },
  {
   "cell_type": "code",
   "execution_count": 42,
   "id": "c6ddf64a",
   "metadata": {},
   "outputs": [],
   "source": [
    "dict={\n",
    "    1:'male',\n",
    "    0:'female'\n",
    "}"
   ]
  },
  {
   "cell_type": "code",
   "execution_count": 43,
   "id": "2627c48f",
   "metadata": {},
   "outputs": [
    {
     "data": {
      "image/png": "[encoded data removed]",
      "text/plain": [
       "<Figure size 1200x600 with 2 Axes>"
      ]
     },
     "metadata": {},
     "output_type": "display_data"
    }
   ],
   "source": [
    "fig, axes = plt.subplots(1, 2, figsize=(12, 6))\n",
    "\n",
    "for i, gender in enumerate(survival_counts.index):\n",
    "    axes[i].pie(\n",
    "        survival_counts.loc[gender],\n",
    "        labels=['Did Not Survive', 'Survived'],\n",
    "        autopct='%1.1f%%',\n",
    "        startangle=140,\n",
    "        colors=['salmon', 'skyblue']\n",
    "    )\n",
    "    axes[i].set_title(f'Survival Rate for {dict[gender]}')\n",
    "\n",
    "plt.suptitle('Titanic Survival Rates by Gender')\n",
    "plt.show()"
   ]
  },
  {
   "cell_type": "markdown",
   "id": "74990a09",
   "metadata": {},
   "source": [
    "Pie chart for 'Survived' and 'Pclass'"
   ]
  },
  {
   "cell_type": "code",
   "execution_count": 45,
   "id": "eabcce08",
   "metadata": {
    "scrolled": true
   },
   "outputs": [
    {
     "data": {
      "image/png": "[encoded data removed]",
      "text/plain": [
       "<Figure size 800x600 with 1 Axes>"
      ]
     },
     "metadata": {},
     "output_type": "display_data"
    }
   ],
   "source": [
    "survival_by_class = full_train.groupby('Pclass')['Survived'].mean() * 100\n",
    "\n",
    "# Plotting\n",
    "plt.figure(figsize=(8, 6))\n",
    "plt.pie(survival_by_class, labels=survival_by_class.index, autopct='%1.1f%%', startangle=140)\n",
    "plt.title('Percentage of People Survived by Pclass')\n",
    "plt.show()"
   ]
  },
  {
   "cell_type": "markdown",
   "id": "998bc880",
   "metadata": {},
   "source": [
    "it is very clear that more women survived and people of lower Pclass number survived. "
   ]
  },
  {
   "cell_type": "code",
   "execution_count": 46,
   "id": "0404f029",
   "metadata": {
    "scrolled": false
   },
   "outputs": [
    {
     "data": {
      "image/png": "[encoded data removed]",
      "text/plain": [
       "<Figure size 1000x600 with 1 Axes>"
      ]
     },
     "metadata": {},
     "output_type": "display_data"
    }
   ],
   "source": [
    "plt.figure(figsize=(10, 6))\n",
    "sns.boxplot(x='Pclass', y='Fare', data=full_train, palette='viridis')\n",
    "plt.title('Fare Distribution by Passenger Class (Pclass)')\n",
    "plt.xlabel('Passenger Class (Pclass)')\n",
    "plt.ylabel('Fare')\n",
    "plt.show()"
   ]
  },
  {
   "cell_type": "markdown",
   "id": "38f7a693",
   "metadata": {},
   "source": [
    "Mean, median and mode for 'Fare' and 'Age'"
   ]
  },
  {
   "cell_type": "code",
   "execution_count": 58,
   "id": "f17b36b3",
   "metadata": {
    "scrolled": true
   },
   "outputs": [
    {
     "data": {
      "text/html": [
       "<div>\n",
       "<style scoped>\n",
       "    .dataframe tbody tr th:only-of-type {\n",
       "        vertical-align: middle;\n",
       "    }\n",
       "\n",
       "    .dataframe tbody tr th {\n",
       "        vertical-align: top;\n",
       "    }\n",
       "\n",
       "    .dataframe thead th {\n",
       "        text-align: right;\n",
       "    }\n",
       "</style>\n",
       "<table border=\"1\" class=\"dataframe\">\n",
       "  <thead>\n",
       "    <tr style=\"text-align: right;\">\n",
       "      <th></th>\n",
       "      <th>Fare</th>\n",
       "      <th>Age</th>\n",
       "    </tr>\n",
       "  </thead>\n",
       "  <tbody>\n",
       "    <tr>\n",
       "      <th>count</th>\n",
       "      <td>891.000000</td>\n",
       "      <td>891.00000</td>\n",
       "    </tr>\n",
       "    <tr>\n",
       "      <th>mean</th>\n",
       "      <td>32.204208</td>\n",
       "      <td>30.11048</td>\n",
       "    </tr>\n",
       "    <tr>\n",
       "      <th>std</th>\n",
       "      <td>49.693429</td>\n",
       "      <td>13.57738</td>\n",
       "    </tr>\n",
       "    <tr>\n",
       "      <th>min</th>\n",
       "      <td>0.000000</td>\n",
       "      <td>0.42000</td>\n",
       "    </tr>\n",
       "    <tr>\n",
       "      <th>25%</th>\n",
       "      <td>7.910400</td>\n",
       "      <td>21.10000</td>\n",
       "    </tr>\n",
       "    <tr>\n",
       "      <th>50%</th>\n",
       "      <td>14.454200</td>\n",
       "      <td>29.00000</td>\n",
       "    </tr>\n",
       "    <tr>\n",
       "      <th>75%</th>\n",
       "      <td>31.000000</td>\n",
       "      <td>38.00000</td>\n",
       "    </tr>\n",
       "    <tr>\n",
       "      <th>max</th>\n",
       "      <td>512.329200</td>\n",
       "      <td>80.00000</td>\n",
       "    </tr>\n",
       "  </tbody>\n",
       "</table>\n",
       "</div>"
      ],
      "text/plain": [
       "             Fare        Age\n",
       "count  891.000000  891.00000\n",
       "mean    32.204208   30.11048\n",
       "std     49.693429   13.57738\n",
       "min      0.000000    0.42000\n",
       "25%      7.910400   21.10000\n",
       "50%     14.454200   29.00000\n",
       "75%     31.000000   38.00000\n",
       "max    512.329200   80.00000"
      ]
     },
     "execution_count": 58,
     "metadata": {},
     "output_type": "execute_result"
    }
   ],
   "source": [
    "full_train[['Fare','Age']].describe(include =\"all\")"
   ]
  },
  {
   "cell_type": "code",
   "execution_count": 61,
   "id": "4aaf2aaa",
   "metadata": {},
   "outputs": [
    {
     "name": "stdout",
     "output_type": "stream",
     "text": [
      "T-statistic: 11.542166853462966\n",
      "P-value: 9.01095289826796e-30\n"
     ]
    }
   ],
   "source": [
    "from scipy import stats\n",
    "\n",
    "# Sample data\n",
    "array1 = full_train['Sex'].to_numpy()\n",
    "array2 = full_train['Survived'].to_numpy()\n",
    "\n",
    "t_stat, p_value = stats.ttest_ind(array1, array2)\n",
    "\n",
    "print(f\"T-statistic: {t_stat}\")\n",
    "print(f\"P-value: {p_value}\")"
   ]
  },
  {
   "cell_type": "markdown",
   "id": "ba6d5031",
   "metadata": {},
   "source": [
    "From the result obtained we can conclude that there is indeed significant difference in survival rate based on gender "
   ]
  },
  {
   "cell_type": "code",
   "execution_count": null,
   "id": "6e6fb0e9",
   "metadata": {},
   "outputs": [],
   "source": []
  }
 ],
 "metadata": {
  "kernelspec": {
   "display_name": "Python 3 (ipykernel)",
   "language": "python",
   "name": "python3"
  },
  "language_info": {
   "codemirror_mode": {
    "name": "ipython",
    "version": 3
   },
   "file_extension": ".py",
   "mimetype": "text/x-python",
   "name": "python",
   "nbconvert_exporter": "python",
   "pygments_lexer": "ipython3",
   "version": "3.11.3"
  }
 },
 "nbformat": 4,
 "nbformat_minor": 5
}
